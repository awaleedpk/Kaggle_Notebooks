{
  "nbformat": 4,
  "nbformat_minor": 0,
  "metadata": {
    "colab": {
      "provenance": []
    },
    "kernelspec": {
      "name": "python3",
      "display_name": "Python 3"
    },
    "language_info": {
      "name": "python"
    }
  },
  "cells": [
    {
      "cell_type": "code",
      "source": [
        "import numpy as np\n",
        "import pandas as pd\n",
        "import matplotlib.pyplot as plt\n",
        "from matplotlib import colors\n",
        "from matplotlib.colors import ListedColormap\n",
        "from numpy import arange\n",
        "import seaborn as sns\n",
        "%matplotlib inline\n",
        "from matplotlib import rcParams\n",
        "from pandas import read_csv\n",
        "from pandas import set_option\n",
        "from pandas.plotting import scatter_matrix\n",
        "from sklearn.preprocessing import StandardScaler\n",
        "from sklearn.model_selection import train_test_split as split\n",
        "from sklearn.model_selection import KFold\n",
        "from sklearn.model_selection import cross_val_score\n",
        "from sklearn.model_selection import GridSearchCV\n",
        "from sklearn.linear_model import LinearRegression\n",
        "from sklearn.linear_model import Lasso\n",
        "from sklearn.linear_model import ElasticNet\n",
        "from sklearn.tree import DecisionTreeRegressor\n",
        "from sklearn.neighbors import KNeighborsRegressor\n",
        "from sklearn.svm import SVR\n",
        "from sklearn.pipeline import Pipeline\n",
        "from sklearn.ensemble import RandomForestRegressor\n",
        "from sklearn.ensemble import GradientBoostingRegressor\n",
        "from sklearn.ensemble import ExtraTreesRegressor\n",
        "from sklearn.ensemble import AdaBoostRegressor\n",
        "from sklearn.metrics import mean_squared_error"
      ],
      "metadata": {
        "id": "KNqXwmCS7Mlk"
      },
      "execution_count": 48,
      "outputs": []
    },
    {
      "cell_type": "code",
      "source": [
        "data = pd.read_csv('US_House_Price.csv')"
      ],
      "metadata": {
        "id": "NKjWYeQg7LLG"
      },
      "execution_count": 4,
      "outputs": []
    },
    {
      "cell_type": "code",
      "execution_count": 30,
      "metadata": {
        "colab": {
          "base_uri": "https://localhost:8080/"
        },
        "id": "BwKl79pf0b3F",
        "outputId": "a5dc55ee-20cb-4949-c9af-f3dae50444c0"
      },
      "outputs": [
        {
          "output_type": "stream",
          "name": "stdout",
          "text": [
            "         DATE  building_permits  const_price_index  delinquency_rate  \\\n",
            "0  2003-01-01              1808              144.4              1.97   \n",
            "1  2003-02-01              1854              145.2              1.97   \n",
            "2  2003-03-01              1757              145.2              1.97   \n",
            "3  2003-04-01              1803              145.9              1.83   \n",
            "4  2003-05-01              1835              145.8              1.83   \n",
            "\n",
            "         GDP  house_for_sale_or_sold  housing_subsidies   income  \\\n",
            "0  14614.141                      76              25.93  10710.4   \n",
            "1  14614.141                      82              25.93  10674.0   \n",
            "2  14614.141                      98              25.93  10696.5   \n",
            "3  14743.567                      91              25.93  10752.7   \n",
            "4  14743.567                     101              25.93  10832.0   \n",
            "\n",
            "   interest_rate  mortgage_rate  construction_unit  total_houses  \\\n",
            "0           1.24         5.9160               1654      111278.0   \n",
            "1           1.26         5.8425               1688      111278.0   \n",
            "2           1.25         5.7450               1638      111278.0   \n",
            "3           1.26         5.8125               1662      111278.0   \n",
            "4           1.26         5.4840               1733      111278.0   \n",
            "\n",
            "   total_const_spending  unemployment_rate  urban_population  home_price_index  \n",
            "0                   1.5                5.8            79.583           128.461  \n",
            "1                  -0.1                5.9            79.583           129.355  \n",
            "2                  -1.1                5.9            79.583           130.148  \n",
            "3                   1.7                6.0            79.583           130.884  \n",
            "4                   0.2                6.1            79.583           131.735  \n"
          ]
        }
      ],
      "source": [
        "print(data.head())\n"
      ]
    },
    {
      "cell_type": "code",
      "source": [
        "# Some information\n",
        "data.info()"
      ],
      "metadata": {
        "colab": {
          "base_uri": "https://localhost:8080/"
        },
        "id": "FNtgOLd979O8",
        "outputId": "cc581949-b53e-4a59-da6b-b7dcda7eed48"
      },
      "execution_count": 33,
      "outputs": [
        {
          "output_type": "stream",
          "name": "stdout",
          "text": [
            "<class 'pandas.core.frame.DataFrame'>\n",
            "RangeIndex: 240 entries, 0 to 239\n",
            "Data columns (total 16 columns):\n",
            " #   Column                  Non-Null Count  Dtype  \n",
            "---  ------                  --------------  -----  \n",
            " 0   DATE                    240 non-null    object \n",
            " 1   building_permits        240 non-null    int64  \n",
            " 2   const_price_index       240 non-null    float64\n",
            " 3   delinquency_rate        240 non-null    float64\n",
            " 4   GDP                     240 non-null    float64\n",
            " 5   house_for_sale_or_sold  240 non-null    int64  \n",
            " 6   housing_subsidies       240 non-null    float64\n",
            " 7   income                  240 non-null    float64\n",
            " 8   interest_rate           240 non-null    float64\n",
            " 9   mortgage_rate           240 non-null    float64\n",
            " 10  construction_unit       240 non-null    int64  \n",
            " 11  total_houses            240 non-null    float64\n",
            " 12  total_const_spending    240 non-null    float64\n",
            " 13  unemployment_rate       240 non-null    float64\n",
            " 14  urban_population        240 non-null    float64\n",
            " 15  home_price_index        240 non-null    float64\n",
            "dtypes: float64(12), int64(3), object(1)\n",
            "memory usage: 30.1+ KB\n"
          ]
        }
      ]
    },
    {
      "cell_type": "code",
      "source": [
        "data.size"
      ],
      "metadata": {
        "colab": {
          "base_uri": "https://localhost:8080/"
        },
        "id": "htcyV0NzDGp4",
        "outputId": "903da87a-343e-4fd1-e726-93b9b19c0768"
      },
      "execution_count": 51,
      "outputs": [
        {
          "output_type": "execute_result",
          "data": {
            "text/plain": [
              "1000"
            ]
          },
          "metadata": {},
          "execution_count": 51
        }
      ]
    },
    {
      "cell_type": "code",
      "source": [
        "data.shape"
      ],
      "metadata": {
        "colab": {
          "base_uri": "https://localhost:8080/"
        },
        "id": "HD2N5wynDK4H",
        "outputId": "c452f4b3-7f3e-4f49-fdde-e41feb9524c8"
      },
      "execution_count": 52,
      "outputs": [
        {
          "output_type": "execute_result",
          "data": {
            "text/plain": [
              "(1000,)"
            ]
          },
          "metadata": {},
          "execution_count": 52
        }
      ]
    },
    {
      "cell_type": "code",
      "source": [
        "data.describe()\n"
      ],
      "metadata": {
        "colab": {
          "base_uri": "https://localhost:8080/",
          "height": 320
        },
        "id": "4j94ubMn7aII",
        "outputId": "62416b61-7437-43a6-962e-76464a7aa685"
      },
      "execution_count": 35,
      "outputs": [
        {
          "output_type": "execute_result",
          "data": {
            "text/plain": [
              "       building_permits  const_price_index  delinquency_rate           GDP  \\\n",
              "count        240.000000         240.000000        240.000000    240.000000   \n",
              "mean        1309.350000         212.851467          4.876750  18095.159938   \n",
              "std          479.881055          44.566715          3.305235   2002.293963   \n",
              "min          513.000000         144.400000          1.410000  14614.141000   \n",
              "25%          979.000000         184.275000          2.087500  16547.088000   \n",
              "50%         1285.500000         207.450000          3.525000  17576.126000   \n",
              "75%         1685.000000         224.525000          7.830000  19716.162500   \n",
              "max         2263.000000         353.015000         11.480000  21989.981000   \n",
              "\n",
              "       house_for_sale_or_sold  housing_subsidies        income  interest_rate  \\\n",
              "count              240.000000         240.000000    240.000000     240.000000   \n",
              "mean                55.550000          34.677450  13493.480833       1.301625   \n",
              "std                 25.383865           6.006483   1837.485256       1.578512   \n",
              "min                 20.000000          25.930000  10674.000000       0.050000   \n",
              "25%                 36.000000          29.785000  12115.575000       0.120000   \n",
              "50%                 49.000000          33.544500  12999.350000       0.400000   \n",
              "75%                 71.000000          37.877250  14820.075000       2.000000   \n",
              "max                127.000000          48.021000  20422.600000       5.260000   \n",
              "\n",
              "       mortgage_rate  construction_unit  total_houses  total_const_spending  \\\n",
              "count     240.000000         240.000000     240.00000            240.000000   \n",
              "mean        4.683308        1201.716667  121344.45000              0.324583   \n",
              "std         1.110667         423.857641    6113.86894              1.950373   \n",
              "min         2.684000         520.000000  111278.00000             -5.900000   \n",
              "25%         3.801375         839.000000  116590.00000             -0.800000   \n",
              "50%         4.456750        1181.500000  121771.50000              0.800000   \n",
              "75%         5.752500        1440.000000  126564.50000              1.600000   \n",
              "max         6.900000        2245.000000  131202.00000              5.000000   \n",
              "\n",
              "       unemployment_rate  urban_population  home_price_index  \n",
              "count         240.000000        240.000000        240.000000  \n",
              "mean            6.012083         81.261200        180.657817  \n",
              "std             2.034118          1.055429         41.255706  \n",
              "min             3.500000         79.583000        128.461000  \n",
              "25%             4.575000         80.395750        148.123000  \n",
              "50%             5.400000         81.209000        172.496500  \n",
              "75%             7.350000         82.107500        197.462000  \n",
              "max            14.700000         83.084000        304.755000  "
            ],
            "text/html": [
              "\n",
              "  <div id=\"df-651b1fc8-4ca4-4324-b6d2-45ca49732131\" class=\"colab-df-container\">\n",
              "    <div>\n",
              "<style scoped>\n",
              "    .dataframe tbody tr th:only-of-type {\n",
              "        vertical-align: middle;\n",
              "    }\n",
              "\n",
              "    .dataframe tbody tr th {\n",
              "        vertical-align: top;\n",
              "    }\n",
              "\n",
              "    .dataframe thead th {\n",
              "        text-align: right;\n",
              "    }\n",
              "</style>\n",
              "<table border=\"1\" class=\"dataframe\">\n",
              "  <thead>\n",
              "    <tr style=\"text-align: right;\">\n",
              "      <th></th>\n",
              "      <th>building_permits</th>\n",
              "      <th>const_price_index</th>\n",
              "      <th>delinquency_rate</th>\n",
              "      <th>GDP</th>\n",
              "      <th>house_for_sale_or_sold</th>\n",
              "      <th>housing_subsidies</th>\n",
              "      <th>income</th>\n",
              "      <th>interest_rate</th>\n",
              "      <th>mortgage_rate</th>\n",
              "      <th>construction_unit</th>\n",
              "      <th>total_houses</th>\n",
              "      <th>total_const_spending</th>\n",
              "      <th>unemployment_rate</th>\n",
              "      <th>urban_population</th>\n",
              "      <th>home_price_index</th>\n",
              "    </tr>\n",
              "  </thead>\n",
              "  <tbody>\n",
              "    <tr>\n",
              "      <th>count</th>\n",
              "      <td>240.000000</td>\n",
              "      <td>240.000000</td>\n",
              "      <td>240.000000</td>\n",
              "      <td>240.000000</td>\n",
              "      <td>240.000000</td>\n",
              "      <td>240.000000</td>\n",
              "      <td>240.000000</td>\n",
              "      <td>240.000000</td>\n",
              "      <td>240.000000</td>\n",
              "      <td>240.000000</td>\n",
              "      <td>240.00000</td>\n",
              "      <td>240.000000</td>\n",
              "      <td>240.000000</td>\n",
              "      <td>240.000000</td>\n",
              "      <td>240.000000</td>\n",
              "    </tr>\n",
              "    <tr>\n",
              "      <th>mean</th>\n",
              "      <td>1309.350000</td>\n",
              "      <td>212.851467</td>\n",
              "      <td>4.876750</td>\n",
              "      <td>18095.159938</td>\n",
              "      <td>55.550000</td>\n",
              "      <td>34.677450</td>\n",
              "      <td>13493.480833</td>\n",
              "      <td>1.301625</td>\n",
              "      <td>4.683308</td>\n",
              "      <td>1201.716667</td>\n",
              "      <td>121344.45000</td>\n",
              "      <td>0.324583</td>\n",
              "      <td>6.012083</td>\n",
              "      <td>81.261200</td>\n",
              "      <td>180.657817</td>\n",
              "    </tr>\n",
              "    <tr>\n",
              "      <th>std</th>\n",
              "      <td>479.881055</td>\n",
              "      <td>44.566715</td>\n",
              "      <td>3.305235</td>\n",
              "      <td>2002.293963</td>\n",
              "      <td>25.383865</td>\n",
              "      <td>6.006483</td>\n",
              "      <td>1837.485256</td>\n",
              "      <td>1.578512</td>\n",
              "      <td>1.110667</td>\n",
              "      <td>423.857641</td>\n",
              "      <td>6113.86894</td>\n",
              "      <td>1.950373</td>\n",
              "      <td>2.034118</td>\n",
              "      <td>1.055429</td>\n",
              "      <td>41.255706</td>\n",
              "    </tr>\n",
              "    <tr>\n",
              "      <th>min</th>\n",
              "      <td>513.000000</td>\n",
              "      <td>144.400000</td>\n",
              "      <td>1.410000</td>\n",
              "      <td>14614.141000</td>\n",
              "      <td>20.000000</td>\n",
              "      <td>25.930000</td>\n",
              "      <td>10674.000000</td>\n",
              "      <td>0.050000</td>\n",
              "      <td>2.684000</td>\n",
              "      <td>520.000000</td>\n",
              "      <td>111278.00000</td>\n",
              "      <td>-5.900000</td>\n",
              "      <td>3.500000</td>\n",
              "      <td>79.583000</td>\n",
              "      <td>128.461000</td>\n",
              "    </tr>\n",
              "    <tr>\n",
              "      <th>25%</th>\n",
              "      <td>979.000000</td>\n",
              "      <td>184.275000</td>\n",
              "      <td>2.087500</td>\n",
              "      <td>16547.088000</td>\n",
              "      <td>36.000000</td>\n",
              "      <td>29.785000</td>\n",
              "      <td>12115.575000</td>\n",
              "      <td>0.120000</td>\n",
              "      <td>3.801375</td>\n",
              "      <td>839.000000</td>\n",
              "      <td>116590.00000</td>\n",
              "      <td>-0.800000</td>\n",
              "      <td>4.575000</td>\n",
              "      <td>80.395750</td>\n",
              "      <td>148.123000</td>\n",
              "    </tr>\n",
              "    <tr>\n",
              "      <th>50%</th>\n",
              "      <td>1285.500000</td>\n",
              "      <td>207.450000</td>\n",
              "      <td>3.525000</td>\n",
              "      <td>17576.126000</td>\n",
              "      <td>49.000000</td>\n",
              "      <td>33.544500</td>\n",
              "      <td>12999.350000</td>\n",
              "      <td>0.400000</td>\n",
              "      <td>4.456750</td>\n",
              "      <td>1181.500000</td>\n",
              "      <td>121771.50000</td>\n",
              "      <td>0.800000</td>\n",
              "      <td>5.400000</td>\n",
              "      <td>81.209000</td>\n",
              "      <td>172.496500</td>\n",
              "    </tr>\n",
              "    <tr>\n",
              "      <th>75%</th>\n",
              "      <td>1685.000000</td>\n",
              "      <td>224.525000</td>\n",
              "      <td>7.830000</td>\n",
              "      <td>19716.162500</td>\n",
              "      <td>71.000000</td>\n",
              "      <td>37.877250</td>\n",
              "      <td>14820.075000</td>\n",
              "      <td>2.000000</td>\n",
              "      <td>5.752500</td>\n",
              "      <td>1440.000000</td>\n",
              "      <td>126564.50000</td>\n",
              "      <td>1.600000</td>\n",
              "      <td>7.350000</td>\n",
              "      <td>82.107500</td>\n",
              "      <td>197.462000</td>\n",
              "    </tr>\n",
              "    <tr>\n",
              "      <th>max</th>\n",
              "      <td>2263.000000</td>\n",
              "      <td>353.015000</td>\n",
              "      <td>11.480000</td>\n",
              "      <td>21989.981000</td>\n",
              "      <td>127.000000</td>\n",
              "      <td>48.021000</td>\n",
              "      <td>20422.600000</td>\n",
              "      <td>5.260000</td>\n",
              "      <td>6.900000</td>\n",
              "      <td>2245.000000</td>\n",
              "      <td>131202.00000</td>\n",
              "      <td>5.000000</td>\n",
              "      <td>14.700000</td>\n",
              "      <td>83.084000</td>\n",
              "      <td>304.755000</td>\n",
              "    </tr>\n",
              "  </tbody>\n",
              "</table>\n",
              "</div>\n",
              "    <div class=\"colab-df-buttons\">\n",
              "\n",
              "  <div class=\"colab-df-container\">\n",
              "    <button class=\"colab-df-convert\" onclick=\"convertToInteractive('df-651b1fc8-4ca4-4324-b6d2-45ca49732131')\"\n",
              "            title=\"Convert this dataframe to an interactive table.\"\n",
              "            style=\"display:none;\">\n",
              "\n",
              "  <svg xmlns=\"http://www.w3.org/2000/svg\" height=\"24px\" viewBox=\"0 -960 960 960\">\n",
              "    <path d=\"M120-120v-720h720v720H120Zm60-500h600v-160H180v160Zm220 220h160v-160H400v160Zm0 220h160v-160H400v160ZM180-400h160v-160H180v160Zm440 0h160v-160H620v160ZM180-180h160v-160H180v160Zm440 0h160v-160H620v160Z\"/>\n",
              "  </svg>\n",
              "    </button>\n",
              "\n",
              "  <style>\n",
              "    .colab-df-container {\n",
              "      display:flex;\n",
              "      gap: 12px;\n",
              "    }\n",
              "\n",
              "    .colab-df-convert {\n",
              "      background-color: #E8F0FE;\n",
              "      border: none;\n",
              "      border-radius: 50%;\n",
              "      cursor: pointer;\n",
              "      display: none;\n",
              "      fill: #1967D2;\n",
              "      height: 32px;\n",
              "      padding: 0 0 0 0;\n",
              "      width: 32px;\n",
              "    }\n",
              "\n",
              "    .colab-df-convert:hover {\n",
              "      background-color: #E2EBFA;\n",
              "      box-shadow: 0px 1px 2px rgba(60, 64, 67, 0.3), 0px 1px 3px 1px rgba(60, 64, 67, 0.15);\n",
              "      fill: #174EA6;\n",
              "    }\n",
              "\n",
              "    .colab-df-buttons div {\n",
              "      margin-bottom: 4px;\n",
              "    }\n",
              "\n",
              "    [theme=dark] .colab-df-convert {\n",
              "      background-color: #3B4455;\n",
              "      fill: #D2E3FC;\n",
              "    }\n",
              "\n",
              "    [theme=dark] .colab-df-convert:hover {\n",
              "      background-color: #434B5C;\n",
              "      box-shadow: 0px 1px 3px 1px rgba(0, 0, 0, 0.15);\n",
              "      filter: drop-shadow(0px 1px 2px rgba(0, 0, 0, 0.3));\n",
              "      fill: #FFFFFF;\n",
              "    }\n",
              "  </style>\n",
              "\n",
              "    <script>\n",
              "      const buttonEl =\n",
              "        document.querySelector('#df-651b1fc8-4ca4-4324-b6d2-45ca49732131 button.colab-df-convert');\n",
              "      buttonEl.style.display =\n",
              "        google.colab.kernel.accessAllowed ? 'block' : 'none';\n",
              "\n",
              "      async function convertToInteractive(key) {\n",
              "        const element = document.querySelector('#df-651b1fc8-4ca4-4324-b6d2-45ca49732131');\n",
              "        const dataTable =\n",
              "          await google.colab.kernel.invokeFunction('convertToInteractive',\n",
              "                                                    [key], {});\n",
              "        if (!dataTable) return;\n",
              "\n",
              "        const docLinkHtml = 'Like what you see? Visit the ' +\n",
              "          '<a target=\"_blank\" href=https://colab.research.google.com/notebooks/data_table.ipynb>data table notebook</a>'\n",
              "          + ' to learn more about interactive tables.';\n",
              "        element.innerHTML = '';\n",
              "        dataTable['output_type'] = 'display_data';\n",
              "        await google.colab.output.renderOutput(dataTable, element);\n",
              "        const docLink = document.createElement('div');\n",
              "        docLink.innerHTML = docLinkHtml;\n",
              "        element.appendChild(docLink);\n",
              "      }\n",
              "    </script>\n",
              "  </div>\n",
              "\n",
              "\n",
              "<div id=\"df-eb6951e6-7cd0-4ad6-93f1-95e3c0bd5f70\">\n",
              "  <button class=\"colab-df-quickchart\" onclick=\"quickchart('df-eb6951e6-7cd0-4ad6-93f1-95e3c0bd5f70')\"\n",
              "            title=\"Suggest charts\"\n",
              "            style=\"display:none;\">\n",
              "\n",
              "<svg xmlns=\"http://www.w3.org/2000/svg\" height=\"24px\"viewBox=\"0 0 24 24\"\n",
              "     width=\"24px\">\n",
              "    <g>\n",
              "        <path d=\"M19 3H5c-1.1 0-2 .9-2 2v14c0 1.1.9 2 2 2h14c1.1 0 2-.9 2-2V5c0-1.1-.9-2-2-2zM9 17H7v-7h2v7zm4 0h-2V7h2v10zm4 0h-2v-4h2v4z\"/>\n",
              "    </g>\n",
              "</svg>\n",
              "  </button>\n",
              "\n",
              "<style>\n",
              "  .colab-df-quickchart {\n",
              "      --bg-color: #E8F0FE;\n",
              "      --fill-color: #1967D2;\n",
              "      --hover-bg-color: #E2EBFA;\n",
              "      --hover-fill-color: #174EA6;\n",
              "      --disabled-fill-color: #AAA;\n",
              "      --disabled-bg-color: #DDD;\n",
              "  }\n",
              "\n",
              "  [theme=dark] .colab-df-quickchart {\n",
              "      --bg-color: #3B4455;\n",
              "      --fill-color: #D2E3FC;\n",
              "      --hover-bg-color: #434B5C;\n",
              "      --hover-fill-color: #FFFFFF;\n",
              "      --disabled-bg-color: #3B4455;\n",
              "      --disabled-fill-color: #666;\n",
              "  }\n",
              "\n",
              "  .colab-df-quickchart {\n",
              "    background-color: var(--bg-color);\n",
              "    border: none;\n",
              "    border-radius: 50%;\n",
              "    cursor: pointer;\n",
              "    display: none;\n",
              "    fill: var(--fill-color);\n",
              "    height: 32px;\n",
              "    padding: 0;\n",
              "    width: 32px;\n",
              "  }\n",
              "\n",
              "  .colab-df-quickchart:hover {\n",
              "    background-color: var(--hover-bg-color);\n",
              "    box-shadow: 0 1px 2px rgba(60, 64, 67, 0.3), 0 1px 3px 1px rgba(60, 64, 67, 0.15);\n",
              "    fill: var(--button-hover-fill-color);\n",
              "  }\n",
              "\n",
              "  .colab-df-quickchart-complete:disabled,\n",
              "  .colab-df-quickchart-complete:disabled:hover {\n",
              "    background-color: var(--disabled-bg-color);\n",
              "    fill: var(--disabled-fill-color);\n",
              "    box-shadow: none;\n",
              "  }\n",
              "\n",
              "  .colab-df-spinner {\n",
              "    border: 2px solid var(--fill-color);\n",
              "    border-color: transparent;\n",
              "    border-bottom-color: var(--fill-color);\n",
              "    animation:\n",
              "      spin 1s steps(1) infinite;\n",
              "  }\n",
              "\n",
              "  @keyframes spin {\n",
              "    0% {\n",
              "      border-color: transparent;\n",
              "      border-bottom-color: var(--fill-color);\n",
              "      border-left-color: var(--fill-color);\n",
              "    }\n",
              "    20% {\n",
              "      border-color: transparent;\n",
              "      border-left-color: var(--fill-color);\n",
              "      border-top-color: var(--fill-color);\n",
              "    }\n",
              "    30% {\n",
              "      border-color: transparent;\n",
              "      border-left-color: var(--fill-color);\n",
              "      border-top-color: var(--fill-color);\n",
              "      border-right-color: var(--fill-color);\n",
              "    }\n",
              "    40% {\n",
              "      border-color: transparent;\n",
              "      border-right-color: var(--fill-color);\n",
              "      border-top-color: var(--fill-color);\n",
              "    }\n",
              "    60% {\n",
              "      border-color: transparent;\n",
              "      border-right-color: var(--fill-color);\n",
              "    }\n",
              "    80% {\n",
              "      border-color: transparent;\n",
              "      border-right-color: var(--fill-color);\n",
              "      border-bottom-color: var(--fill-color);\n",
              "    }\n",
              "    90% {\n",
              "      border-color: transparent;\n",
              "      border-bottom-color: var(--fill-color);\n",
              "    }\n",
              "  }\n",
              "</style>\n",
              "\n",
              "  <script>\n",
              "    async function quickchart(key) {\n",
              "      const quickchartButtonEl =\n",
              "        document.querySelector('#' + key + ' button');\n",
              "      quickchartButtonEl.disabled = true;  // To prevent multiple clicks.\n",
              "      quickchartButtonEl.classList.add('colab-df-spinner');\n",
              "      try {\n",
              "        const charts = await google.colab.kernel.invokeFunction(\n",
              "            'suggestCharts', [key], {});\n",
              "      } catch (error) {\n",
              "        console.error('Error during call to suggestCharts:', error);\n",
              "      }\n",
              "      quickchartButtonEl.classList.remove('colab-df-spinner');\n",
              "      quickchartButtonEl.classList.add('colab-df-quickchart-complete');\n",
              "    }\n",
              "    (() => {\n",
              "      let quickchartButtonEl =\n",
              "        document.querySelector('#df-eb6951e6-7cd0-4ad6-93f1-95e3c0bd5f70 button');\n",
              "      quickchartButtonEl.style.display =\n",
              "        google.colab.kernel.accessAllowed ? 'block' : 'none';\n",
              "    })();\n",
              "  </script>\n",
              "</div>\n",
              "\n",
              "    </div>\n",
              "  </div>\n"
            ]
          },
          "metadata": {},
          "execution_count": 35
        }
      ]
    },
    {
      "cell_type": "code",
      "source": [
        "data['DATE'] = pd.to_datetime(data['DATE'])  # Convert 'DATE' column to datetime if it's not already\n",
        "\n",
        "# Set 'DATE' column as index for time series plotting\n",
        "data.set_index('DATE', inplace=True)\n",
        "\n",
        "# Plotting time series for each variable\n",
        "plt.figure(figsize=(12, 8))\n",
        "for column in data.columns:\n",
        "    plt.plot(data.index, data[column], label=column)\n",
        "\n",
        "plt.title('Time Series Trends for Variables')\n",
        "plt.xlabel('Date')\n",
        "plt.ylabel('Values')\n",
        "plt.legend()\n",
        "plt.show()"
      ],
      "metadata": {
        "colab": {
          "base_uri": "https://localhost:8080/",
          "height": 718
        },
        "id": "wiMonnJaBFbW",
        "outputId": "d42dd085-60ff-41bb-a7a2-8978ef2853c9"
      },
      "execution_count": 38,
      "outputs": [
        {
          "output_type": "display_data",
          "data": {
            "text/plain": [
              "<Figure size 1200x800 with 1 Axes>"
            ],
            "image/png": "[encoded data removed]"
          },
          "metadata": {}
        }
      ]
    },
    {
      "cell_type": "markdown",
      "source": [
        "# <p style=\"font-family:JetBrains Mono; font-weight:normal; letter-spacing: 2px; color:#705e5d; font-size:100%; text-align:left;padding: 0px; border-bottom: 3px solid #5a463d\">Evaluate Algorithms</p>\n",
        "\n",
        "<p style=\"font-family:JetBrains Mono;font-size:140%;color:#705e5d; letter-spacing: 2px; font-weight: bold\">Linear Algorithms:</p>\n",
        "\n",
        "\n",
        ">       Linear Regression (LR)\n",
        ">  \n",
        ">       Lasso Regression (LASSO)\n",
        ">  \n",
        ">       ElasticNet (EN)\n",
        "\n",
        "<p style=\"font-family:JetBrains Mono;font-size:140%;color:#705e5d;letter-spacing: 2px; font-weight: bold\">Nonlinear Algorithms:</p>\n",
        "\n",
        "\n",
        " >      Classification and Regression Trees (CART)\n",
        " >\n",
        " >      Support Vector Regression (SVR)\n",
        " >   \n",
        " >      k-Nearest Neighbors (KNN)"
      ],
      "metadata": {
        "id": "oZqMbRf3ErJi"
      }
    },
    {
      "cell_type": "code",
      "source": [
        "# Test options and evaluation metric\n",
        "num_folds = 10\n",
        "scoring = 'neg_mean_squared_error'\n",
        "\n",
        "# Spot-Check Algorithms\n",
        "models = []\n",
        "models.append(('LR', LinearRegression()))\n",
        "models.append(('LASSO', Lasso()))\n",
        "models.append(('EN', ElasticNet()))\n",
        "models.append(('KNN', KNeighborsRegressor()))\n",
        "models.append(('CART', DecisionTreeRegressor()))\n",
        "models.append(('SVR', SVR()))"
      ],
      "metadata": {
        "id": "K9dp8-WZ8UWC"
      },
      "execution_count": 13,
      "outputs": []
    },
    {
      "cell_type": "code",
      "source": [
        "X = data.drop(columns=['DATE', 'home_price_index'])  # Features\n",
        "y = data['home_price_index']  # Target variable"
      ],
      "metadata": {
        "id": "ZZAUUZrd8b69"
      },
      "execution_count": 15,
      "outputs": []
    },
    {
      "cell_type": "code",
      "source": [
        "X_train, X_val, Y_train, Y_val = split(X, y, test_size=0.3, random_state=1313)\n"
      ],
      "metadata": {
        "id": "nAIF_i2j8dbS"
      },
      "execution_count": 17,
      "outputs": []
    },
    {
      "cell_type": "code",
      "source": [
        "# Evaluate each model in turn\n",
        "results = []\n",
        "names = []\n",
        "for name, model in models:\n",
        "    kfold = KFold(n_splits=num_folds, random_state=1313, shuffle=True)\n",
        "    cv_results = cross_val_score(model, X_train, Y_train,\n",
        "                                 cv=kfold, scoring=scoring)\n",
        "    results.append(cv_results)\n",
        "    names.append(name)\n",
        "\n",
        "    print('\\033[94m {}: MSE = {}, std = {}'.format(name, cv_results.mean(),\n",
        "                                          cv_results.std()))"
      ],
      "metadata": {
        "colab": {
          "base_uri": "https://localhost:8080/"
        },
        "id": "filNCNSB8WeH",
        "outputId": "6a588a42-4e7d-4c8a-bbc6-aca7806bf28c"
      },
      "execution_count": 18,
      "outputs": [
        {
          "output_type": "stream",
          "name": "stdout",
          "text": [
            "\u001b[94m LR: MSE = -33.31958657606445, std = 35.42991607931904\n",
            "\u001b[94m LASSO: MSE = -30.8045740993745, std = 7.801141778740204\n",
            "\u001b[94m EN: MSE = -31.351171749518976, std = 7.914486657943948\n",
            "\u001b[94m KNN: MSE = -18.286292332897062, std = 9.387835744114064\n",
            "\u001b[94m CART: MSE = -12.954809190441162, std = 5.647386078062068\n",
            "\u001b[94m SVR: MSE = -1987.0690966054729, std = 608.782674971238\n"
          ]
        }
      ]
    },
    {
      "cell_type": "code",
      "source": [
        "# Create palette for the boxplots\n",
        "cmap1 = [\"#3c3d40\", \"#a6a29e\", \"#705e5d\", '#e4e6e5', \"#5a463d\", '#705b47',\n",
        "                              '#866e5f', \"#bcc5d9\", \"#c9d5de\"]\n",
        "sns.palplot(sns.color_palette(cmap1))"
      ],
      "metadata": {
        "colab": {
          "base_uri": "https://localhost:8080/",
          "height": 118
        },
        "id": "PasZybj98q9I",
        "outputId": "f0cca920-a4d9-4a6e-ec5d-e3d8954b480e"
      },
      "execution_count": 20,
      "outputs": [
        {
          "output_type": "display_data",
          "data": {
            "text/plain": [
              "<Figure size 900x100 with 1 Axes>"
            ],
            "image/png": "[encoded data removed]"
          },
          "metadata": {}
        }
      ]
    },
    {
      "cell_type": "code",
      "source": [
        "# Compare Algorithms\n",
        "fig = plt.figure(figsize = (20,7), facecolor = '#bcc5d9')\n",
        "fig.suptitle\n",
        "ax = fig.add_subplot(111)\n",
        "sns.boxplot(data = results, palette = cmap1)\n",
        "ax.set_xticklabels(names, size=20, color = '#5a463d', y=-0.03)\n",
        "plt.title('Algorithm Comparison', fontsize=25, color = '#5a463d', y=1.05)\n",
        "plt.show()"
      ],
      "metadata": {
        "colab": {
          "base_uri": "https://localhost:8080/",
          "height": 533
        },
        "id": "7Rxpo8mp8mbm",
        "outputId": "6faba374-4858-4ba3-f59a-37c2436ac75c"
      },
      "execution_count": 21,
      "outputs": [
        {
          "output_type": "display_data",
          "data": {
            "text/plain": [
              "<Figure size 2000x700 with 1 Axes>"
            ],
            "image/png": "[encoded data removed]"
          },
          "metadata": {}
        }
      ]
    },
    {
      "cell_type": "markdown",
      "source": [
        "# <p style=\"font-family:JetBrains Mono; font-weight:normal; letter-spacing: 2px; color:#705e5d; font-size:100%; text-align:left;padding: 0px; border-bottom: 3px solid #5a463d\">Evaluate Algorithms: Stardadization</p>"
      ],
      "metadata": {
        "id": "8UWrGjLNEv-n"
      }
    },
    {
      "cell_type": "code",
      "source": [
        "# Standardize the dataset\n",
        "pipelines = []\n",
        "pipelines.append(('Scaled_LR', Pipeline([('Scaler', StandardScaler()),('LR', LinearRegression())])))\n",
        "pipelines.append(('Scaled_LASSO', Pipeline([('Scaler', StandardScaler()),('LASSO', Lasso())])))\n",
        "pipelines.append(('Scaled_EN', Pipeline([('Scaler', StandardScaler()),('EN', ElasticNet())])))\n",
        "pipelines.append(('Scaled_KNN', Pipeline([('Scaler', StandardScaler()),('KNN', KNeighborsRegressor())])))\n",
        "pipelines.append(('Scaled_CART', Pipeline([('Scaler', StandardScaler()),('CART', DecisionTreeRegressor())])))\n",
        "pipelines.append(('Scaled_SVR', Pipeline([('Scaler', StandardScaler()),('SVR', SVR())])))\n",
        "results = []\n",
        "names = []\n",
        "for name, model in pipelines:\n",
        "    kfold = KFold(n_splits=num_folds, random_state=1313, shuffle=True)\n",
        "    cv_results = cross_val_score(model, X_train, Y_train,\n",
        "                                 cv=kfold, scoring=scoring)\n",
        "    results.append(cv_results)\n",
        "    names.append(name)\n",
        "    print('\\033[94m {}: MSE = {}, std = {}'.format(name, cv_results.mean(),\n",
        "                                          cv_results.std()))"
      ],
      "metadata": {
        "colab": {
          "base_uri": "https://localhost:8080/"
        },
        "id": "YaIIlcyb9AML",
        "outputId": "163a3902-79df-44f3-d80b-3978752135a0"
      },
      "execution_count": 22,
      "outputs": [
        {
          "output_type": "stream",
          "name": "stdout",
          "text": [
            "\u001b[94m Scaled_LR: MSE = -33.31958657606684, std = 35.42991607932032\n",
            "\u001b[94m Scaled_LASSO: MSE = -30.107340259819374, std = 5.306677298955372\n",
            "\u001b[94m Scaled_EN: MSE = -120.08917434870875, std = 43.27256316470072\n",
            "\u001b[94m Scaled_KNN: MSE = -18.38268991339706, std = 8.998299566344345\n",
            "\u001b[94m Scaled_CART: MSE = -25.07031498492647, std = 33.16547803016289\n",
            "\u001b[94m Scaled_SVR: MSE = -1091.1666300168524, std = 467.52082082948033\n"
          ]
        }
      ]
    },
    {
      "cell_type": "markdown",
      "source": [
        "# <p style=\"font-family:JetBrains Mono; font-weight:normal; letter-spacing: 2px; color:#705e5d; font-size:100%; text-align:left;padding: 0px; border-bottom: 3px solid #5a463d\">Improve Results With Tuning</p>"
      ],
      "metadata": {
        "id": "jeq_6s6NE4dJ"
      }
    },
    {
      "cell_type": "code",
      "source": [
        "# KNN Algorithm tuning\n",
        "scaler = StandardScaler().fit(X_train)\n",
        "rescaledX = scaler.transform(X_train)\n",
        "k_values = np.array([1,3,5,7,9,11,13,15,17,19,21])\n",
        "param_grid = dict(n_neighbors=k_values)\n",
        "model = KNeighborsRegressor()\n",
        "kfold = KFold(n_splits=num_folds, random_state=1313, shuffle=True)\n",
        "grid = GridSearchCV(estimator=model, param_grid=param_grid,\n",
        "                    scoring=scoring, cv=kfold)\n",
        "grid_result = grid.fit(rescaledX, Y_train)\n",
        "print(\"\\033[94m Best: %f using %s\" % (grid_result.best_score_,\n",
        "                             grid_result.best_params_))\n",
        "print('\\033[94m _'*24)\n",
        "means = grid_result.cv_results_['mean_test_score']\n",
        "stds = grid_result.cv_results_['std_test_score']\n",
        "params = grid_result.cv_results_['params']\n",
        "for mean, stdev, param in zip(means, stds, params):\n",
        "    print(\"%f (%f) with: %r\" % (mean, stdev, param))"
      ],
      "metadata": {
        "colab": {
          "base_uri": "https://localhost:8080/"
        },
        "id": "h4TTiv8z9DJf",
        "outputId": "2984285e-dbe4-474a-a2ea-004b230202db"
      },
      "execution_count": 23,
      "outputs": [
        {
          "output_type": "stream",
          "name": "stdout",
          "text": [
            "\u001b[94m Best: -12.584628 using {'n_neighbors': 1}\n",
            "\u001b[94m _\u001b[94m _\u001b[94m _\u001b[94m _\u001b[94m _\u001b[94m _\u001b[94m _\u001b[94m _\u001b[94m _\u001b[94m _\u001b[94m _\u001b[94m _\u001b[94m _\u001b[94m _\u001b[94m _\u001b[94m _\u001b[94m _\u001b[94m _\u001b[94m _\u001b[94m _\u001b[94m _\u001b[94m _\u001b[94m _\u001b[94m _\n",
            "-12.584628 (7.077453) with: {'n_neighbors': 1}\n",
            "-15.772202 (8.874727) with: {'n_neighbors': 3}\n",
            "-18.777807 (8.841318) with: {'n_neighbors': 5}\n",
            "-26.166850 (10.451613) with: {'n_neighbors': 7}\n",
            "-42.479054 (23.344573) with: {'n_neighbors': 9}\n",
            "-69.988763 (34.238994) with: {'n_neighbors': 11}\n",
            "-102.099412 (48.063222) with: {'n_neighbors': 13}\n",
            "-127.596594 (65.290978) with: {'n_neighbors': 15}\n",
            "-146.208650 (79.393488) with: {'n_neighbors': 17}\n",
            "-172.457993 (92.201607) with: {'n_neighbors': 19}\n",
            "-197.677915 (106.930444) with: {'n_neighbors': 21}\n"
          ]
        }
      ]
    },
    {
      "cell_type": "markdown",
      "source": [
        "# <p style=\"font-family:JetBrains Mono; font-weight:normal; letter-spacing: 2px; color:#705e5d; font-size:100%; text-align:left;padding: 0px; border-bottom: 3px solid #5a463d\">Ensemble Methods</p>\n",
        "\n",
        " <p style=\"font-family:JetBrains Mono;font-size:140%;color:#705e5d; letter-spacing: 2px; font-weight: bold\">Boosting Methods:</p>\n",
        "\n",
        "\n",
        ">       AdaBoost (AB)\n",
        ">  \n",
        ">       Gradient Boodting (GBM)\n",
        "\n",
        "\n",
        "<p style=\"font-family:JetBrains Mono;font-size:140%;color:#705e5d;letter-spacing: 2px; font-weight: bold\">Bagging Methods:</p>\n",
        "\n",
        "\n",
        " >      Random Forest (RF)\n",
        " >\n",
        " >      Extra Trees (ET)"
      ],
      "metadata": {
        "id": "RG8sIAAAE7WG"
      }
    },
    {
      "cell_type": "code",
      "source": [
        "# Ensembles\n",
        "ensembles = []\n",
        "ensembles.append(('Scaled_AB', Pipeline([('Scaler', StandardScaler()),('AB', AdaBoostRegressor())])))\n",
        "ensembles.append(('Scaled_GBM', Pipeline([('Scaler', StandardScaler()),('GBM', GradientBoostingRegressor())])))\n",
        "ensembles.append(('Scaled_RF', Pipeline([('Scaler', StandardScaler()),('RF', RandomForestRegressor(n_estimators=10))])))\n",
        "ensembles.append(('Scaled_ET', Pipeline([('Scaler', StandardScaler()),('ET', ExtraTreesRegressor(n_estimators=10))])))\n",
        "results = []\n",
        "names = []\n",
        "for name, model in ensembles:\n",
        "    kfold = KFold(n_splits=num_folds, random_state=1313, shuffle=True)\n",
        "    cv_results = cross_val_score(model, X_train, Y_train,\n",
        "                                 cv=kfold, scoring=scoring)\n",
        "    results.append(cv_results)\n",
        "    names.append(name)\n",
        "    msg = \"\\033[94m %s: %f (%f)\" % (name, cv_results.mean(),\n",
        "                           cv_results.std())\n",
        "    print(msg)"
      ],
      "metadata": {
        "colab": {
          "base_uri": "https://localhost:8080/"
        },
        "id": "zb7h_9so9Huv",
        "outputId": "2ffe892e-00db-4933-c84d-45112bb9e59f"
      },
      "execution_count": 24,
      "outputs": [
        {
          "output_type": "stream",
          "name": "stdout",
          "text": [
            "\u001b[94m Scaled_AB: -21.218287 (5.712320)\n",
            "\u001b[94m Scaled_GBM: -8.830870 (7.576888)\n",
            "\u001b[94m Scaled_RF: -12.176618 (10.243331)\n",
            "\u001b[94m Scaled_ET: -3.964721 (2.686317)\n"
          ]
        }
      ]
    },
    {
      "cell_type": "markdown",
      "source": [
        "# Tune Ensemble Methods"
      ],
      "metadata": {
        "id": "3DQxaDsnEd-E"
      }
    },
    {
      "cell_type": "code",
      "source": [
        "# Tune scaled GBM\n",
        "scaler = StandardScaler().fit(X_train)\n",
        "rescaledX = scaler.transform(X_train)\n",
        "param_grid = {'n_estimators':[100,200,250,300,400]}\n",
        "\n",
        "model = GradientBoostingRegressor(random_state=1313, learning_rate = 0.1,\n",
        "                                  max_depth = 4, min_samples_leaf = 3)\n",
        "kfold = KFold(n_splits=num_folds, random_state=1313, shuffle=True)\n",
        "grid = GridSearchCV(estimator=model, param_grid=param_grid,\n",
        "                    scoring=scoring, cv=kfold)\n",
        "grid_result = grid.fit(rescaledX, Y_train)\n",
        "\n",
        "\n",
        "\n",
        "print(\"\\033[94m Best: %f using %s\" % (grid_result.best_score_,\n",
        "                             grid_result.best_params_))\n",
        "print('\\033[94m _'*24)\n",
        "means = grid_result.cv_results_['mean_test_score']\n",
        "stds = grid_result.cv_results_['std_test_score']\n",
        "params = grid_result.cv_results_['params']\n",
        "for mean, stdev, param in zip(means, stds, params):\n",
        "    print(\"%f (%f) with: %r\" % (mean, stdev, param))\n",
        ""
      ],
      "metadata": {
        "colab": {
          "base_uri": "https://localhost:8080/"
        },
        "id": "erwvLtSY9Li3",
        "outputId": "3899f481-f33c-4352-e700-3990065e2240"
      },
      "execution_count": 25,
      "outputs": [
        {
          "output_type": "stream",
          "name": "stdout",
          "text": [
            "\u001b[94m Best: -15.301970 using {'n_estimators': 400}\n",
            "\u001b[94m _\u001b[94m _\u001b[94m _\u001b[94m _\u001b[94m _\u001b[94m _\u001b[94m _\u001b[94m _\u001b[94m _\u001b[94m _\u001b[94m _\u001b[94m _\u001b[94m _\u001b[94m _\u001b[94m _\u001b[94m _\u001b[94m _\u001b[94m _\u001b[94m _\u001b[94m _\u001b[94m _\u001b[94m _\u001b[94m _\u001b[94m _\n",
            "-15.505482 (22.095241) with: {'n_estimators': 100}\n",
            "-15.348390 (21.899619) with: {'n_estimators': 200}\n",
            "-15.327530 (21.873499) with: {'n_estimators': 250}\n",
            "-15.311899 (21.853342) with: {'n_estimators': 300}\n",
            "-15.301970 (21.837040) with: {'n_estimators': 400}\n"
          ]
        }
      ]
    },
    {
      "cell_type": "code",
      "source": [
        "# Tune scaled ET\n",
        "scaler = StandardScaler().fit(X_train)\n",
        "rescaledX = scaler.transform(X_train)\n",
        "param_grid = dict(n_estimators=np.array([100,200,250,300,400]))\n",
        "model = ExtraTreesRegressor(random_state=1313)\n",
        "\n",
        "kfold = KFold(n_splits=num_folds, random_state=1313, shuffle=True)\n",
        "grid = GridSearchCV(estimator=model, param_grid=param_grid,\n",
        "                    scoring=scoring, cv=kfold)\n",
        "grid_result = grid.fit(rescaledX, Y_train)\n",
        "\n",
        "print(\"\\033[94m Best: %f using %s\" % (grid_result.best_score_,\n",
        "                             grid_result.best_params_))\n",
        "print('\\033[94m _'*24)\n",
        "means = grid_result.cv_results_['mean_test_score']\n",
        "stds = grid_result.cv_results_['std_test_score']\n",
        "params = grid_result.cv_results_['params']\n",
        "for mean, stdev, param in zip(means, stds, params):\n",
        "    print(\"%f (%f) with: %r\" % (mean, stdev, param))"
      ],
      "metadata": {
        "colab": {
          "base_uri": "https://localhost:8080/"
        },
        "id": "Tusyjy4x9OyO",
        "outputId": "8bdb5865-4925-4340-f8ec-0916c30ee1ce"
      },
      "execution_count": 26,
      "outputs": [
        {
          "output_type": "stream",
          "name": "stdout",
          "text": [
            "\u001b[94m Best: -3.038677 using {'n_estimators': 250}\n",
            "\u001b[94m _\u001b[94m _\u001b[94m _\u001b[94m _\u001b[94m _\u001b[94m _\u001b[94m _\u001b[94m _\u001b[94m _\u001b[94m _\u001b[94m _\u001b[94m _\u001b[94m _\u001b[94m _\u001b[94m _\u001b[94m _\u001b[94m _\u001b[94m _\u001b[94m _\u001b[94m _\u001b[94m _\u001b[94m _\u001b[94m _\u001b[94m _\n",
            "-3.513886 (3.766433) with: {'n_estimators': 100}\n",
            "-3.242588 (3.648285) with: {'n_estimators': 200}\n",
            "-3.038677 (3.035627) with: {'n_estimators': 250}\n",
            "-3.040582 (3.052030) with: {'n_estimators': 300}\n",
            "-3.225147 (3.612683) with: {'n_estimators': 400}\n"
          ]
        }
      ]
    },
    {
      "cell_type": "markdown",
      "source": [
        "**Final Model**\n",
        "\n",
        "Scale the inputs for the validation dataset and generate predictions"
      ],
      "metadata": {
        "id": "10UO2ql0EZiW"
      }
    },
    {
      "cell_type": "code",
      "source": [
        "# Prepare the GBM model\n",
        "scaler = StandardScaler().fit(X_train)\n",
        "rescaledX = scaler.transform(X_train)\n",
        "model = GradientBoostingRegressor(random_state=1313, n_estimators=250,\n",
        "                                  learning_rate=0.1, max_depth = 4,\n",
        "                                  min_samples_leaf = 3)\n",
        "model.fit(rescaledX, Y_train)\n",
        "\n",
        "# Transform the validation dataset\n",
        "rescaledValidationX = scaler.transform(X_val)\n",
        "predictions = model.predict(rescaledValidationX)\n",
        "print('\\033[94m GBM model: MSE = {}'.format(mean_squared_error(Y_val, predictions)))"
      ],
      "metadata": {
        "colab": {
          "base_uri": "https://localhost:8080/"
        },
        "id": "KXgexk_G9R1T",
        "outputId": "901fe7c3-ee57-42c4-869c-d719061cdf8b"
      },
      "execution_count": 27,
      "outputs": [
        {
          "output_type": "stream",
          "name": "stdout",
          "text": [
            "\u001b[94m GBM model: MSE = 6.665891176374767\n"
          ]
        }
      ]
    },
    {
      "cell_type": "code",
      "source": [
        "# Prepare the ET model\n",
        "scaler = StandardScaler().fit(X_train)\n",
        "rescaledX = scaler.transform(X_train)\n",
        "model = ExtraTreesRegressor(random_state=1313, n_estimators=250)\n",
        "model.fit(rescaledX, Y_train)\n",
        "\n",
        "# Transform the validation dataset\n",
        "rescaledValidationX = scaler.transform(X_val)\n",
        "predictions = model.predict(rescaledValidationX)\n",
        "print('\\033[94m ET model: MSE = {}'.format(mean_squared_error(Y_val, predictions)))"
      ],
      "metadata": {
        "colab": {
          "base_uri": "https://localhost:8080/"
        },
        "id": "pKrhwLDM9Tca",
        "outputId": "b8c4e85f-6d9e-4caf-eef4-c62de11d85df"
      },
      "execution_count": 28,
      "outputs": [
        {
          "output_type": "stream",
          "name": "stdout",
          "text": [
            "\u001b[94m ET model: MSE = 2.6883621317775717\n"
          ]
        }
      ]
    }
  ]
}